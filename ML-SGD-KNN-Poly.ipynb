{
 "cells": [
  {
   "cell_type": "code",
   "execution_count": 1,
   "id": "07abddb2",
   "metadata": {
    "scrolled": true
   },
   "outputs": [
    {
     "name": "stdout",
     "output_type": "stream",
     "text": [
      "    Species  Weight  Length1  Length2  Length3   Height   Width\n",
      "0     Bream   242.0     23.2     25.4     30.0  11.5200  4.0200\n",
      "1     Bream   290.0     24.0     26.3     31.2  12.4800  4.3056\n",
      "2     Bream   340.0     23.9     26.5     31.1  12.3778  4.6961\n",
      "3     Bream   363.0     26.3     29.0     33.5  12.7300  4.4555\n",
      "4     Bream   430.0     26.5     29.0     34.0  12.4440  5.1340\n",
      "..      ...     ...      ...      ...      ...      ...     ...\n",
      "154   Smelt    12.2     11.5     12.2     13.4   2.0904  1.3936\n",
      "155   Smelt    13.4     11.7     12.4     13.5   2.4300  1.2690\n",
      "156   Smelt    12.2     12.1     13.0     13.8   2.2770  1.2558\n",
      "157   Smelt    19.7     13.2     14.3     15.2   2.8728  2.0672\n",
      "158   Smelt    19.9     13.8     15.0     16.2   2.9322  1.8792\n",
      "\n",
      "[159 rows x 7 columns]\n"
     ]
    }
   ],
   "source": [
    "#part1 #importing\n",
    "\n",
    "import pandas as pd\n",
    "needed_data = pd.read_csv(r\"/Users/david/Desktop/fish.csv\")\n",
    "print(needed_data)"
   ]
  },
  {
   "cell_type": "code",
   "execution_count": 2,
   "id": "04bb4c27",
   "metadata": {},
   "outputs": [],
   "source": [
    "#part1 #a\n",
    "from sklearn.preprocessing import OrdinalEncoder\n",
    "ordinal_encoder = OrdinalEncoder()\n",
    "needed_data_encoded = ordinal_encoder.fit_transform(needed_data)"
   ]
  },
  {
   "cell_type": "code",
   "execution_count": 3,
   "id": "a5212c51",
   "metadata": {
    "scrolled": true
   },
   "outputs": [
    {
     "data": {
      "text/plain": [
       "array([[1., 0., 0., ..., 0., 0., 0.],\n",
       "       [1., 0., 0., ..., 0., 0., 0.],\n",
       "       [1., 0., 0., ..., 0., 0., 0.],\n",
       "       ...,\n",
       "       [0., 0., 0., ..., 0., 0., 0.],\n",
       "       [0., 0., 0., ..., 0., 0., 0.],\n",
       "       [0., 0., 0., ..., 0., 0., 0.]])"
      ]
     },
     "execution_count": 3,
     "metadata": {},
     "output_type": "execute_result"
    }
   ],
   "source": [
    "#part1 #a #continuation\n",
    "from sklearn.preprocessing import OneHotEncoder\n",
    "cat_encoder = OneHotEncoder()\n",
    "needed_data_1hot = cat_encoder.fit_transform(needed_data)\n",
    "needed_data_1hot.toarray()"
   ]
  },
  {
   "cell_type": "code",
   "execution_count": 4,
   "id": "ab8d836c",
   "metadata": {},
   "outputs": [
    {
     "data": {
      "text/plain": [
       "array([[0.3308679 , 0.36372707, 0.43243259, 0.1564156 , 0.04439572],\n",
       "       [0.34281669, 0.37716945, 0.45035578, 0.17075415, 0.04866144],\n",
       "       [0.34132309, 0.38015665, 0.44886218, 0.16922769, 0.05449394],\n",
       "       [0.37716945, 0.41749661, 0.48470854, 0.17448814, 0.05090034],\n",
       "       [0.38015665, 0.41749661, 0.49217653, 0.17021645, 0.06103441],\n",
       "       [0.38463744, 0.4279518 , 0.50263172, 0.1875183 , 0.05794863],\n",
       "       [0.38463744, 0.4279518 , 0.49964452, 0.19613785, 0.06319266],\n",
       "       [0.39658623, 0.43243259, 0.50711252, 0.17359198, 0.05440283],\n",
       "       [0.39658623, 0.43243259, 0.50860611, 0.19353003, 0.05669998],\n",
       "       [0.41002862, 0.44288778, 0.5250357 , 0.19684134, 0.05842658],\n",
       "       [0.40853502, 0.44736858, 0.5250357 , 0.19738202, 0.06058931],\n",
       "       [0.41301581, 0.44736858, 0.5250357 , 0.19900407, 0.05626385],\n",
       "       [0.41899021, 0.45483657, 0.52802289, 0.18986026, 0.04959344],\n",
       "       [0.4249646 , 0.46230456, 0.54146528, 0.19215592, 0.06012032],\n",
       "       [0.423471  , 0.46230456, 0.53997168, 0.20771175, 0.06158405],\n",
       "       [0.423471  , 0.46230456, 0.53997168, 0.21493479, 0.06769586],\n",
       "       [0.43840699, 0.47724055, 0.55640126, 0.20630776, 0.06329571],\n",
       "       [0.43840699, 0.47724055, 0.55938846, 0.2074668 , 0.06198284],\n",
       "       [0.44587498, 0.48470854, 0.56088206, 0.21784731, 0.06103142],\n",
       "       [0.44736858, 0.48470854, 0.56237566, 0.20053351, 0.06990041],\n",
       "       [0.45184937, 0.49217653, 0.57432445, 0.2103121 , 0.06753903],\n",
       "       [0.45334297, 0.49217653, 0.56984365, 0.22323322, 0.06456527],\n",
       "       [0.45483657, 0.49964452, 0.57731164, 0.21619987, 0.06321655],\n",
       "       [0.45931737, 0.50711252, 0.59075403, 0.21539183, 0.07591961],\n",
       "       [0.46081096, 0.50711252, 0.58926043, 0.22692092, 0.06783028],\n",
       "       [0.45931737, 0.50711252, 0.59523482, 0.22870577, 0.07476356],\n",
       "       [0.46230456, 0.50711252, 0.59075403, 0.22873265, 0.07531321],\n",
       "       [0.47275975, 0.5220485 , 0.60419641, 0.23105072, 0.07175098],\n",
       "       [0.47425335, 0.5220485 , 0.60569001, 0.23661586, 0.07693227],\n",
       "       [0.48470854, 0.53698448, 0.620626  , 0.26749452, 0.08297537],\n",
       "       [0.50711252, 0.55938846, 0.64302997, 0.25375192, 0.07854386],\n",
       "       [0.50711252, 0.55938846, 0.64153638, 0.2544554 , 0.07833028],\n",
       "       [0.5250357 , 0.57432445, 0.66095315, 0.2644655 , 0.08516648],\n",
       "       [0.54295888, 0.59672842, 0.66991475, 0.26269111, 0.08513063],\n",
       "       [0.55192047, 0.59672842, 0.67887634, 0.24757738, 0.07950275],\n",
       "       [0.17702726, 0.19495044, 0.22631601, 0.04629558, 0.01822788],\n",
       "       [0.2307968 , 0.25618798, 0.28755355, 0.06348839, 0.02649793],\n",
       "       [0.24573279, 0.26514957, 0.30099593, 0.06763014, 0.02773314],\n",
       "       [0.25618798, 0.28008555, 0.31593192, 0.06824251, 0.03176884],\n",
       "       [0.26216237, 0.28307275, 0.31593192, 0.07719514, 0.03773726],\n",
       "       [0.26813677, 0.29054074, 0.32489351, 0.08106655, 0.03441251],\n",
       "       [0.26963036, 0.29502154, 0.3293743 , 0.07647373, 0.03507118],\n",
       "       [0.27411116, 0.29800873, 0.33833589, 0.07568063, 0.03355668],\n",
       "       [0.28904714, 0.31294472, 0.35327188, 0.07104898, 0.04042872],\n",
       "       [0.29054074, 0.31294472, 0.34729748, 0.08343689, 0.03734295],\n",
       "       [0.29054074, 0.32041271, 0.36223347, 0.08940382, 0.041413  ],\n",
       "       [0.29800873, 0.32041271, 0.35775267, 0.08218376, 0.03401521],\n",
       "       [0.29950233, 0.32041271, 0.35775267, 0.07994336, 0.0411098 ],\n",
       "       [0.31294472, 0.34281669, 0.39061184, 0.09688674, 0.04163555],\n",
       "       [0.31294472, 0.3338551 , 0.38314385, 0.08763988, 0.03858861],\n",
       "       [0.31443832, 0.3353487 , 0.38463744, 0.09483155, 0.04599686],\n",
       "       [0.33684229, 0.36073987, 0.40106703, 0.09019841, 0.04269302],\n",
       "       [0.34281669, 0.37268866, 0.42048381, 0.11693681, 0.0515172 ],\n",
       "       [0.35775267, 0.38762464, 0.44139418, 0.11232458, 0.05565148],\n",
       "       [0.4249646 , 0.45782377, 0.50711252, 0.12602087, 0.06433526],\n",
       "       [0.33684229, 0.37268866, 0.41301581, 0.10952259, 0.04779515],\n",
       "       [0.34431029, 0.38015665, 0.4219774 , 0.10601263, 0.04780859],\n",
       "       [0.36671426, 0.40256063, 0.44438138, 0.11546113, 0.05427737],\n",
       "       [0.41002862, 0.44736858, 0.49217653, 0.14482528, 0.08236299],\n",
       "       [0.48769574, 0.52802289, 0.57581804, 0.16001816, 0.08253625],\n",
       "       [0.54146528, 0.58179244, 0.63406838, 0.16887221, 0.08181036],\n",
       "       [0.18598885, 0.20391203, 0.2307968 , 0.08662722, 0.01910163],\n",
       "       [0.19793764, 0.21586082, 0.24423919, 0.08259002, 0.01891792],\n",
       "       [0.22780961, 0.24871999, 0.28008555, 0.09495701, 0.02427695],\n",
       "       [0.24573279, 0.26813677, 0.30248953, 0.10969883, 0.02793776],\n",
       "       [0.25917518, 0.28307275, 0.31891911, 0.11717578, 0.03353427],\n",
       "       [0.26813677, 0.29352794, 0.3308679 , 0.11187052, 0.03355817],\n",
       "       [0.26813677, 0.29352794, 0.3308679 , 0.12469157, 0.03529074],\n",
       "       [0.28008555, 0.30547673, 0.34431029, 0.12977578, 0.03150746],\n",
       "       [0.30099593, 0.3278807 , 0.36970146, 0.13887777, 0.03907254],\n",
       "       [0.3278807 , 0.35775267, 0.40256063, 0.14996326, 0.04624778],\n",
       "       [0.34281669, 0.37268866, 0.41749661, 0.15414533, 0.04759202],\n",
       "       [0.09637295, 0.10981533, 0.11578973, 0.01589786, 0.00538293],\n",
       "       [0.17105287, 0.18897605, 0.20391203, 0.03704722, 0.01421308],\n",
       "       [0.19046965, 0.20839283, 0.22332881, 0.04146827, 0.02067738],\n",
       "       [0.20839283, 0.22631601, 0.24125199, 0.05294508, 0.0236586 ],\n",
       "       [0.21884802, 0.24423919, 0.26066877, 0.05287936, 0.02828726],\n",
       "       [0.22631601, 0.25320078, 0.27112396, 0.06235475, 0.03396443],\n",
       "       [0.2352776 , 0.26365597, 0.27411116, 0.06200823, 0.03100412],\n",
       "       [0.24125199, 0.26813677, 0.28605995, 0.06852928, 0.0299108 ],\n",
       "       [0.25021358, 0.27709836, 0.29502154, 0.06108818, 0.02971066],\n",
       "       [0.25618798, 0.28307275, 0.29800873, 0.06025774, 0.02575561],\n",
       "       [0.26813677, 0.29800873, 0.32041271, 0.06937615, 0.03745049],\n",
       "       [0.26813677, 0.29800873, 0.32041271, 0.07273675, 0.03375383],\n",
       "       [0.26813677, 0.29800873, 0.32041271, 0.06937615, 0.03913079],\n",
       "       [0.27261756, 0.30248953, 0.32489351, 0.07970439, 0.03713683],\n",
       "       [0.28307275, 0.31294472, 0.3353487 , 0.07561193, 0.03524743],\n",
       "       [0.28307275, 0.31294472, 0.3353487 , 0.06859201, 0.03700241],\n",
       "       [0.28307275, 0.31294472, 0.3353487 , 0.07561193, 0.03700241],\n",
       "       [0.28307275, 0.31294472, 0.3353487 , 0.07210197, 0.03700241],\n",
       "       [0.28307275, 0.31294472, 0.3353487 , 0.06683704, 0.04402232],\n",
       "       [0.29054074, 0.32041271, 0.34281669, 0.07181819, 0.03848107],\n",
       "       [0.29054074, 0.32041271, 0.34281669, 0.08579827, 0.03848107],\n",
       "       [0.29352794, 0.32339991, 0.34580388, 0.07326996, 0.03857069],\n",
       "       [0.29800873, 0.3278807 , 0.35028468, 0.0622965 , 0.03851094],\n",
       "       [0.30547673, 0.3353487 , 0.35775267, 0.07807636, 0.0399896 ],\n",
       "       [0.31294472, 0.34281669, 0.36522066, 0.0932812 , 0.03995973],\n",
       "       [0.31294472, 0.34281669, 0.36522066, 0.07956996, 0.0414832 ],\n",
       "       [0.32190631, 0.35177828, 0.37567585, 0.08492302, 0.04657339],\n",
       "       [0.3278807 , 0.35775267, 0.38015665, 0.08053333, 0.03936976],\n",
       "       [0.3353487 , 0.36671426, 0.38762464, 0.08234806, 0.0476667 ],\n",
       "       [0.35775267, 0.38015665, 0.40256063, 0.0914142 , 0.04624778],\n",
       "       [0.36073987, 0.39210544, 0.41301581, 0.10866526, 0.0610837 ],\n",
       "       [0.36372707, 0.39509263, 0.41600301, 0.09140225, 0.04910056],\n",
       "       [0.36372707, 0.39509263, 0.41600301, 0.08967565, 0.04910056],\n",
       "       [0.36372707, 0.39509263, 0.41600301, 0.09312885, 0.05255375],\n",
       "       [0.37119506, 0.40256063, 0.423471  , 0.10115843, 0.04714693],\n",
       "       [0.38613104, 0.41301581, 0.43392619, 0.09764549, 0.05358732],\n",
       "       [0.39957343, 0.43243259, 0.45633017, 0.09809955, 0.05562161],\n",
       "       [0.43990059, 0.47425335, 0.49217653, 0.13416099, 0.07423782],\n",
       "       [0.46230456, 0.49964452, 0.52951649, 0.13754399, 0.07975666],\n",
       "       [0.46977255, 0.50711252, 0.54146528, 0.15594363, 0.10078952],\n",
       "       [0.49217653, 0.52951649, 0.56685645, 0.14687151, 0.08687366],\n",
       "       [0.49217653, 0.5220485 , 0.55640126, 0.14281041, 0.08503355],\n",
       "       [0.49964452, 0.53698448, 0.57283085, 0.14618445, 0.07792103],\n",
       "       [0.50113812, 0.53698448, 0.57133725, 0.14225181, 0.0794445 ],\n",
       "       [0.52951649, 0.56685645, 0.60270282, 0.15068915, 0.09627437],\n",
       "       [0.52951649, 0.56685645, 0.60270282, 0.15068915, 0.07401378],\n",
       "       [0.53101009, 0.56685645, 0.60120922, 0.17002677, 0.09415346],\n",
       "       [0.53549089, 0.58179244, 0.6161452 , 0.16251845, 0.09049414],\n",
       "       [0.53698448, 0.58179244, 0.6191324 , 0.15955216, 0.09226555],\n",
       "       [0.53698448, 0.58179244, 0.6176388 , 0.1692725 , 0.09581135],\n",
       "       [0.53847808, 0.58179244, 0.6191324 , 0.15066525, 0.08337864],\n",
       "       [0.56685645, 0.61166441, 0.65049797, 0.17553665, 0.08693938],\n",
       "       [0.57880524, 0.62660039, 0.65945956, 0.16258118, 0.09304521],\n",
       "       [0.58328604, 0.62660039, 0.66394035, 0.17123957, 0.09512579],\n",
       "       [0.58477963, 0.63406838, 0.67140834, 0.17260621, 0.10596185],\n",
       "       [0.59822202, 0.64153638, 0.68036993, 0.17088558, 0.09780381],\n",
       "       [0.43243259, 0.46678536, 0.50412532, 0.06751662, 0.03477097],\n",
       "       [0.45782377, 0.49217653, 0.54893327, 0.06960467, 0.04645689],\n",
       "       [0.47275975, 0.50711252, 0.56386926, 0.07301904, 0.04983839],\n",
       "       [0.50412532, 0.54146528, 0.57880524, 0.07827651, 0.04439273],\n",
       "       [0.51458051, 0.55192047, 0.58926043, 0.09323639, 0.0527076 ],\n",
       "       [0.5220485 , 0.55938846, 0.59672842, 0.07988362, 0.04375347],\n",
       "       [0.58179244, 0.6191324 , 0.66394035, 0.09308703, 0.04891386],\n",
       "       [0.58179244, 0.6191324 , 0.66394035, 0.08629116, 0.05095262],\n",
       "       [0.58328604, 0.62660039, 0.66842115, 0.10064464, 0.06096869],\n",
       "       [0.61166441, 0.65647236, 0.70128031, 0.08830751, 0.05747964],\n",
       "       [0.62958759, 0.67140834, 0.7117355 , 0.10073425, 0.05709131],\n",
       "       [0.65348516, 0.70128031, 0.74907546, 0.09906142, 0.06464891],\n",
       "       [0.70576111, 0.75654345, 0.8073258 , 0.11767465, 0.07652601],\n",
       "       [0.76102425, 0.82076819, 0.87603133, 0.14396347, 0.08867942],\n",
       "       [0.82076819, 0.88051213, 0.94025606, 0.12773851, 0.07611975],\n",
       "       [0.82076819, 0.88051213, 0.94025606, 0.12773851, 0.07611975],\n",
       "       [0.86557614, 0.93129447, 1.        , 0.14584093, 0.09607423],\n",
       "       [0.12325772, 0.13072571, 0.14566169, 0.01032375, 0.        ],\n",
       "       [0.13371291, 0.1411809 , 0.15761048, 0.01380682, 0.0016788 ],\n",
       "       [0.1352065 , 0.1426745 , 0.15761048, 0.01016842, 0.00150555],\n",
       "       [0.1396873 , 0.14864889, 0.16358488, 0.01715248, 0.00496472],\n",
       "       [0.1441681 , 0.15163609, 0.16955927, 0.01546771, 0.0034293 ],\n",
       "       [0.14566169, 0.15312969, 0.17254647, 0.01389943, 0.00354879],\n",
       "       [0.15312969, 0.16059768, 0.18001446, 0.01741984, 0.00352788],\n",
       "       [0.15312969, 0.16059768, 0.18001446, 0.01741984, 0.00176693],\n",
       "       [0.15462328, 0.16358488, 0.18150806, 0.01727795, 0.00150555],\n",
       "       [0.15611688, 0.16657207, 0.18449525, 0.01557524, 0.00516785],\n",
       "       [0.15910408, 0.16955927, 0.18598885, 0.0206475 , 0.00330683],\n",
       "       [0.16507847, 0.17852086, 0.19046965, 0.0183623 , 0.00310967],\n",
       "       [0.18150806, 0.19793764, 0.21138003, 0.02726116, 0.01522873],\n",
       "       [0.19046965, 0.20839283, 0.22631601, 0.02814836, 0.01242076]])"
      ]
     },
     "execution_count": 4,
     "metadata": {},
     "output_type": "execute_result"
    }
   ],
   "source": [
    "#part1 #b\n",
    "columns = needed_data[['Length1','Length2','Length3','Height','Width']].values.astype(float)\n",
    "\n",
    "columns\n",
    "\n",
    "normalized = (columns-columns.min())/(columns.max()-columns.min())\n",
    "\n",
    "normalized"
   ]
  },
  {
   "cell_type": "code",
   "execution_count": 5,
   "id": "0ce34925",
   "metadata": {},
   "outputs": [
    {
     "name": "stdout",
     "output_type": "stream",
     "text": [
      "    Species  Weight  Length1  Length2  Length3   Height   Width\n",
      "33    Bream   975.0     37.4     41.0     45.9  18.6354  6.7473\n",
      "37    Roach    78.0     17.5     18.8     21.2   5.5756  2.9044\n",
      "16    Bream   700.0     30.4     33.0     38.3  14.8604  5.2854\n",
      "140    Pike   950.0     48.3     51.7     55.1   8.9262  6.1712\n",
      "109   Perch   514.0     30.5     32.8     34.0  10.0300  6.0180\n",
      "..      ...     ...      ...      ...      ...      ...     ...\n",
      "112   Perch   685.0     34.0     36.5     39.0  10.8810  6.8640\n",
      "14    Bream   600.0     29.4     32.0     37.2  14.9544  5.1708\n",
      "46    Roach   140.0     21.0     22.5     25.0   6.5500  3.3250\n",
      "128    Pike   200.0     30.0     32.3     34.8   5.5680  3.3756\n",
      "62   Parkki    60.0     14.3     15.5     17.4   6.5772  2.3142\n",
      "\n",
      "[159 rows x 7 columns]\n"
     ]
    }
   ],
   "source": [
    "#part3 #a\n",
    "#randomising the order of the rows\n",
    "import pandas as pd\n",
    "import numpy as np\n",
    "\n",
    "shuffled_data = pd.DataFrame(needed_data)\n",
    "\n",
    "shuffled_data = shuffled_data.sample(frac=1)\n",
    "\n",
    "print(shuffled_data)\n",
    "\n",
    "\n",
    "\n"
   ]
  },
  {
   "cell_type": "code",
   "execution_count": 6,
   "id": "d8dd50ae",
   "metadata": {},
   "outputs": [],
   "source": [
    "#part3 #a #continuation\n",
    "\n",
    "# from sklearn.datasets import shuffled_data\n",
    "shuffled_data\n",
    "df = pd.DataFrame(shuffled_data, columns = ['Species','Weight','Length1','Length2','Length3','Height','Width'])\n",
    "\n",
    "\n",
    "# Selecting the features\n",
    "features = ['Weight','Length1','Length2','Length3','Height', 'Width']\n",
    "x = df[features]\n",
    "\n",
    "# Target Variable\n",
    "y = df['Species']\n",
    "\n",
    "\n",
    "from sklearn.model_selection import train_test_split\n",
    "#Splitting the dataset into the training and test set\n",
    "x_train, x_test, y_train, y_test = train_test_split(x, y, test_size = 0.40, random_state = 25 )"
   ]
  },
  {
   "cell_type": "code",
   "execution_count": 7,
   "id": "25844230",
   "metadata": {},
   "outputs": [],
   "source": [
    "#part3 #b\n",
    "\n",
    "from sklearn.linear_model import SGDClassifier\n",
    "\n",
    "# Fitting SGD Classifier to the Training set\n",
    "model = SGDClassifier(loss=\"hinge\", alpha=0.01, max_iter=200)\n",
    "model.fit(x_train, y_train)\n",
    "\n",
    "# Predicting the results\n",
    "y_pred = model.predict(x_test)"
   ]
  },
  {
   "cell_type": "code",
   "execution_count": 11,
   "id": "14c13404",
   "metadata": {},
   "outputs": [
    {
     "name": "stdout",
     "output_type": "stream",
     "text": [
      "Confusion Matrix\n",
      "[[ 0  0  0  0 20  0  0]\n",
      " [ 0  0  0  0  4  0  0]\n",
      " [ 0  0  0  0 15  0  0]\n",
      " [ 0  0  0  0  4  0  0]\n",
      " [ 0  0  0  0 10  0  0]\n",
      " [ 0  0  0  0  7  0  0]\n",
      " [ 0  0  0  0  4  0  0]]\n",
      "\n",
      "Classification Report\n",
      "              precision    recall  f1-score   support\n",
      "\n",
      "       Bream       0.00      0.00      0.00        20\n",
      "      Parkki       0.00      0.00      0.00         4\n",
      "       Perch       0.00      0.00      0.00        15\n",
      "        Pike       0.00      0.00      0.00         4\n",
      "       Roach       0.16      1.00      0.27        10\n",
      "       Smelt       0.00      0.00      0.00         7\n",
      "   Whitefish       0.00      0.00      0.00         4\n",
      "\n",
      "    accuracy                           0.16        64\n",
      "   macro avg       0.02      0.14      0.04        64\n",
      "weighted avg       0.02      0.16      0.04        64\n",
      "\n",
      "SGD Classifier Accuracy of the model: 15.62%\n"
     ]
    },
    {
     "name": "stderr",
     "output_type": "stream",
     "text": [
      "/Users/david/opt/anaconda3/lib/python3.8/site-packages/sklearn/metrics/_classification.py:1245: UndefinedMetricWarning: Precision and F-score are ill-defined and being set to 0.0 in labels with no predicted samples. Use `zero_division` parameter to control this behavior.\n",
      "  _warn_prf(average, modifier, msg_start, len(result))\n",
      "/Users/david/opt/anaconda3/lib/python3.8/site-packages/sklearn/metrics/_classification.py:1245: UndefinedMetricWarning: Precision and F-score are ill-defined and being set to 0.0 in labels with no predicted samples. Use `zero_division` parameter to control this behavior.\n",
      "  _warn_prf(average, modifier, msg_start, len(result))\n",
      "/Users/david/opt/anaconda3/lib/python3.8/site-packages/sklearn/metrics/_classification.py:1245: UndefinedMetricWarning: Precision and F-score are ill-defined and being set to 0.0 in labels with no predicted samples. Use `zero_division` parameter to control this behavior.\n",
      "  _warn_prf(average, modifier, msg_start, len(result))\n"
     ]
    }
   ],
   "source": [
    "#part3 #b #continuation\n",
    "\n",
    "from sklearn.metrics import confusion_matrix, accuracy_score, classification_report\n",
    "from sklearn.metrics import precision_score\n",
    "\n",
    "# Confusion matrix\n",
    "print(\"Confusion Matrix\")\n",
    "matrix = confusion_matrix(y_test, y_pred)\n",
    "print(matrix)\n",
    "\n",
    "# Classification Report\n",
    "print(\"\\nClassification Report\")\n",
    "report = classification_report(y_test, y_pred)\n",
    "print(report)\n",
    "\n",
    "# Accuracy of the model\n",
    "accuracy = accuracy_score(y_test, y_pred)\n",
    "\n",
    "print('SGD Classifier Accuracy of the model: {:.2f}%'.format(accuracy*100))\n",
    "\n",
    "\n"
   ]
  },
  {
   "cell_type": "code",
   "execution_count": 6,
   "id": "baf00a47",
   "metadata": {},
   "outputs": [],
   "source": []
  },
  {
   "cell_type": "code",
   "execution_count": 8,
   "id": "ccc1b3c1",
   "metadata": {},
   "outputs": [
    {
     "name": "stdout",
     "output_type": "stream",
     "text": [
      "KNeighborsClassifier(n_neighbors=50)\n",
      "Training score:  0.75\n",
      "[[ 8  1  6  2]\n",
      " [ 2  9  0  7]\n",
      " [ 0  0 15  1]\n",
      " [ 0  0  0 13]]\n",
      "              precision    recall  f1-score   support\n",
      "\n",
      "           0       0.80      0.47      0.59        17\n",
      "           1       0.90      0.50      0.64        18\n",
      "           2       0.71      0.94      0.81        16\n",
      "           3       0.57      1.00      0.72        13\n",
      "\n",
      "    accuracy                           0.70        64\n",
      "   macro avg       0.74      0.73      0.69        64\n",
      "weighted avg       0.76      0.70      0.69        64\n",
      "\n"
     ]
    }
   ],
   "source": [
    "#part3 #c\n",
    "\n",
    "from sklearn.neighbors import KNeighborsClassifier\n",
    "from sklearn.datasets import load_iris\n",
    "from sklearn.datasets import make_classification\n",
    "from sklearn.model_selection import train_test_split\n",
    "from sklearn.metrics import confusion_matrix\n",
    "from sklearn.metrics import classification_report\n",
    "\n",
    "x, y = make_classification(n_samples=160, n_features=12, \n",
    "                            n_classes=4, n_clusters_per_class=1)\n",
    "\n",
    "xtrain, xtest, ytrain, ytest=train_test_split(x, y, test_size=0.40)\n",
    "\n",
    "knc = KNeighborsClassifier(n_neighbors=50)\n",
    "print(knc)\n",
    "\n",
    "knc.fit(xtrain, ytrain)\n",
    "\n",
    "score = knc.score(xtrain, ytrain)\n",
    "print(\"Training score: \", score)\n",
    "\n",
    "ypred = knc.predict(xtest)\n",
    "cm = confusion_matrix(ytest, ypred)\n",
    "print(cm)\n",
    "\n",
    "cr = classification_report(ytest, ypred)\n",
    "print(cr)"
   ]
  },
  {
   "cell_type": "code",
   "execution_count": 9,
   "id": "94d2ab2b",
   "metadata": {},
   "outputs": [],
   "source": [
    "#par2 #a\n",
    "# Selecting the features\n",
    "features = ['Species','Length1','Length2','Length3','Height', 'Width']\n",
    "a = df[features]\n",
    "# Target Variable\n",
    "b = df['Weight']\n",
    "\n",
    "a = shuffled_data.iloc[:,:-1].values\n",
    "b=shuffled_data.iloc[:,:-1].values\n",
    "\n",
    "from sklearn.model_selection import train_test_split\n",
    "# Splitting the dataset into the training and test set\n",
    "a_train, a_test, b_train, b_test = train_test_split(a, b, test_size = 0.40, random_state = 25 )"
   ]
  },
  {
   "cell_type": "code",
   "execution_count": 10,
   "id": "47bf5f2d",
   "metadata": {},
   "outputs": [],
   "source": [
    "#part2 #b\n",
    "\n",
    "from sklearn.preprocessing import LabelEncoder, OneHotEncoder\n",
    "from sklearn.compose import ColumnTransformer\n",
    "import numpy as np\n",
    "\n",
    "\n",
    "np.set_printoptions(suppress=True)\n",
    "labelencoder_exp = LabelEncoder()\n",
    "shuffled_data['Species']=labelencoder_exp.fit_transform(shuffled_data['Species'])\n",
    "\n",
    "ct = ColumnTransformer([(\"Species\", OneHotEncoder(), [0])], remainder = 'passthrough')\n",
    "shuffled_data_encoded = ct.fit_transform(shuffled_data)\n"
   ]
  },
  {
   "cell_type": "code",
   "execution_count": 11,
   "id": "03d15e40",
   "metadata": {},
   "outputs": [],
   "source": [
    "#part2 #b #continuation\n",
    "\n",
    "from sklearn.preprocessing import LabelEncoder, OneHotEncoder\n",
    "from sklearn.compose import ColumnTransformer\n",
    "import numpy as np\n",
    "\n",
    "from sklearn.linear_model import LinearRegression\n",
    "\n",
    "labelencoder_exp = LabelEncoder()\n",
    "shuffled_data['Species']=labelencoder_exp.fit_transform(shuffled_data['Species'])\n",
    "\n",
    "ct = ColumnTransformer([(\"Species\", OneHotEncoder(), [0])], remainder = 'passthrough')\n",
    "shuffled_data_encoded = ct.fit_transform(shuffled_data)\n",
    "\n",
    "reg=LinearRegression()\n",
    "#random_fish_df_encoded = random_fish_df_encoded.drop('Weight',axis='columns')\n",
    "a_train, a_test = train_test_split(shuffled_data_encoded, test_size=0.4)\n",
    "b_train, b_test = train_test_split(needed_data.Weight, test_size=0.4)\n",
    "a=shuffled_data_encoded\n",
    "y=needed_data.Weight\n",
    "\n",
    "reg_pred = reg.fit(a_train,b_train)\n"
   ]
  },
  {
   "cell_type": "code",
   "execution_count": 12,
   "id": "1f3eed4a",
   "metadata": {},
   "outputs": [
    {
     "name": "stdout",
     "output_type": "stream",
     "text": [
      "[ 618.6379684   238.1141262  -282.18826239   95.76167571  -81.82807631\n",
      " -427.93656157 -160.56087003    0.60002611  238.07035651  -36.63658342\n",
      " -218.34501556  -46.50031126  216.39072746]\n"
     ]
    }
   ],
   "source": [
    "#part2 #b #continuation\n",
    "print(reg.coef_)\n"
   ]
  },
  {
   "cell_type": "code",
   "execution_count": 13,
   "id": "32671858",
   "metadata": {},
   "outputs": [
    {
     "name": "stdout",
     "output_type": "stream",
     "text": [
      "Mean Absolute Error: 314.0158316810041\n",
      "Mean Squared Error: 149787.22199150134\n",
      "Root Mean Squared Error: 387.0235419086303\n"
     ]
    }
   ],
   "source": [
    "#part2 #b #continuation\n",
    "b_pred = reg.predict(a_test)\n",
    "\n",
    "from sklearn import metrics\n",
    "print('Mean Absolute Error:', metrics.mean_absolute_error(b_test, b_pred))\n",
    "print('Mean Squared Error:', metrics.mean_squared_error(b_test, b_pred))\n",
    "print('Root Mean Squared Error:', np.sqrt(metrics.mean_squared_error(b_test, b_pred)))"
   ]
  },
  {
   "cell_type": "code",
   "execution_count": null,
   "id": "a4577831",
   "metadata": {},
   "outputs": [],
   "source": [
    "#part2 #c \n",
    "#polynomial regression\n",
    "\n",
    "from sklearn.preprocessing import PolynomialFeatures\n",
    "poly_features = PolynomialFeatures(degree=1, include_bias=False)\n",
    "a_train_poly = poly_features.fit_transform(a_train)\n",
    "a_test_poly = poly_features.fit_transform(a_test)\n"
   ]
  },
  {
   "cell_type": "code",
   "execution_count": 25,
   "id": "e11189af",
   "metadata": {},
   "outputs": [],
   "source": []
  },
  {
   "cell_type": "code",
   "execution_count": 26,
   "id": "a79599a0",
   "metadata": {},
   "outputs": [],
   "source": []
  },
  {
   "cell_type": "code",
   "execution_count": 29,
   "id": "39224f8b",
   "metadata": {},
   "outputs": [
    {
     "data": {
      "text/plain": [
       "LinearRegression()"
      ]
     },
     "execution_count": 29,
     "metadata": {},
     "output_type": "execute_result"
    }
   ],
   "source": [
    "#part2 #c #continuation\n",
    "\n",
    "poly_model =LinearRegression()\n",
    "#print(x_train_poly)\n",
    "#print(type(y_train))\n",
    "b_train = b_train.to_numpy(dtype='float')\n",
    "b_train = b_train.reshape(-1,1)\n",
    "b_test = b_test.to_numpy(dtype='float')\n",
    "b_test = b_test.reshape(-1,1)\n",
    "#print(y_train)\n",
    "#y_train = y_train.to_numpy(dtype='float')\n",
    "\n",
    "poly_model.fit(a_train_poly, b_train)\n"
   ]
  },
  {
   "cell_type": "code",
   "execution_count": 30,
   "id": "a3c71ec3",
   "metadata": {},
   "outputs": [
    {
     "data": {
      "text/plain": [
       "array([[ 618.6379684 ,  238.1141262 , -282.18826239,   95.76167571,\n",
       "         -81.82807631, -427.93656157, -160.56087003,    0.60002611,\n",
       "         238.07035651,  -36.63658342, -218.34501556,  -46.50031126,\n",
       "         216.39072746]])"
      ]
     },
     "execution_count": 30,
     "metadata": {},
     "output_type": "execute_result"
    }
   ],
   "source": [
    "poly_model.coef_"
   ]
  },
  {
   "cell_type": "code",
   "execution_count": 31,
   "id": "1d8d763a",
   "metadata": {},
   "outputs": [
    {
     "data": {
      "text/plain": [
       "array([1236.75488664])"
      ]
     },
     "execution_count": 31,
     "metadata": {},
     "output_type": "execute_result"
    }
   ],
   "source": [
    "poly_model.intercept_"
   ]
  },
  {
   "cell_type": "code",
   "execution_count": 32,
   "id": "1a3f4110",
   "metadata": {},
   "outputs": [],
   "source": [
    "poly_train_pred = poly_model.predict(a_train_poly)\n",
    "poly_test_pred = poly_model.predict(a_test_poly)\n"
   ]
  },
  {
   "cell_type": "code",
   "execution_count": 33,
   "id": "1822d5c2",
   "metadata": {},
   "outputs": [
    {
     "name": "stdout",
     "output_type": "stream",
     "text": [
      "Root Mean Squared training Error: 316.39302132490855\n",
      "Root Mean Squared test Error: 387.0235419086303\n"
     ]
    }
   ],
   "source": [
    "print('Root Mean Squared training Error:', np.sqrt(metrics.mean_squared_error(b_train, poly_train_pred)))\n",
    "print('Root Mean Squared test Error:', np.sqrt(metrics.mean_squared_error(b_test, poly_test_pred)))"
   ]
  },
  {
   "cell_type": "code",
   "execution_count": null,
   "id": "d77ac4d4",
   "metadata": {},
   "outputs": [],
   "source": []
  }
 ],
 "metadata": {
  "kernelspec": {
   "display_name": "Python 3",
   "language": "python",
   "name": "python3"
  },
  "language_info": {
   "codemirror_mode": {
    "name": "ipython",
    "version": 3
   },
   "file_extension": ".py",
   "mimetype": "text/x-python",
   "name": "python",
   "nbconvert_exporter": "python",
   "pygments_lexer": "ipython3",
   "version": "3.8.8"
  }
 },
 "nbformat": 4,
 "nbformat_minor": 5
}
